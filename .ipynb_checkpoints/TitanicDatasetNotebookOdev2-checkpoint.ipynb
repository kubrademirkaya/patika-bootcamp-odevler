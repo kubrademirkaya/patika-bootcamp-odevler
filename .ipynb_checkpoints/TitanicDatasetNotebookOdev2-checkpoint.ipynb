{
 "cells": [
  {
   "cell_type": "code",
   "execution_count": 5,
   "id": "2dd0fb54-12e6-4f55-bdac-14a05e3eec6e",
   "metadata": {},
   "outputs": [],
   "source": [
    "import pandas as pd\n",
    "import numpy as np\n",
    "import seaborn as sns"
   ]
  },
  {
   "cell_type": "code",
   "execution_count": 6,
   "id": "5eebca63-1374-4dcb-9cff-801cd611750a",
   "metadata": {},
   "outputs": [],
   "source": [
    "dataset = pd.read_csv(\"TitanicDataset.csv\")"
   ]
  },
  {
   "cell_type": "markdown",
   "id": "dd0c323a-6fc6-4ad7-aa0d-509d9953f9ec",
   "metadata": {},
   "source": [
    "## 1. Veriyi Anlama ve Tanıma\n",
    "\n",
    "Bir veri analizine başlarken öncelikle veri setini tanımak gerekir. İlk başta aşağıdaki kodlarla veriyi tanımaya çalışmak her veri analizinin başında yapılması gereken bir işlemlerdir. Gerekli başlangıç bilgilerine bu şekilde ulaşabiliriz.\n",
    "\n",
    "1. head() ile veri setinden bir parça görüp sütun isimlerini ve veri tiplerini görebiliriz.\n",
    "2. info() ile her sütunun veri tipini ve boş olmayan değer sayısını görebiliriz.\n",
    "3. describe() ile ayısal sütunların temel istatistiksel özetlerini (sayı, ortalama, standart sapma, minimum, maksimum, çeyreklikler vb.) görebiliriz.\n",
    "4. isnull().sum() veya isna().sum() ile her sütundaki boş değer sayısını görebiliriz.\n",
    "6. type() ile veri setinin tipini görebiliriz."
   ]
  },
  {
   "cell_type": "code",
   "execution_count": 7,
   "id": "753dbd10-7e6c-4a1d-8bb2-46a0ae8cbf1a",
   "metadata": {},
   "outputs": [
    {
     "data": {
      "text/html": [
       "<div>\n",
       "<style scoped>\n",
       "    .dataframe tbody tr th:only-of-type {\n",
       "        vertical-align: middle;\n",
       "    }\n",
       "\n",
       "    .dataframe tbody tr th {\n",
       "        vertical-align: top;\n",
       "    }\n",
       "\n",
       "    .dataframe thead th {\n",
       "        text-align: right;\n",
       "    }\n",
       "</style>\n",
       "<table border=\"1\" class=\"dataframe\">\n",
       "  <thead>\n",
       "    <tr style=\"text-align: right;\">\n",
       "      <th></th>\n",
       "      <th>PassengerId</th>\n",
       "      <th>Survived</th>\n",
       "      <th>Pclass</th>\n",
       "      <th>Name</th>\n",
       "      <th>Sex</th>\n",
       "      <th>Age</th>\n",
       "      <th>SibSp</th>\n",
       "      <th>Parch</th>\n",
       "      <th>Ticket</th>\n",
       "      <th>Fare</th>\n",
       "      <th>Cabin</th>\n",
       "      <th>Embarked</th>\n",
       "    </tr>\n",
       "  </thead>\n",
       "  <tbody>\n",
       "    <tr>\n",
       "      <th>0</th>\n",
       "      <td>1</td>\n",
       "      <td>0</td>\n",
       "      <td>3</td>\n",
       "      <td>Braund, Mr. Owen Harris</td>\n",
       "      <td>male</td>\n",
       "      <td>22.0</td>\n",
       "      <td>1</td>\n",
       "      <td>0</td>\n",
       "      <td>A/5 21171</td>\n",
       "      <td>7.2500</td>\n",
       "      <td>NaN</td>\n",
       "      <td>S</td>\n",
       "    </tr>\n",
       "    <tr>\n",
       "      <th>1</th>\n",
       "      <td>2</td>\n",
       "      <td>1</td>\n",
       "      <td>1</td>\n",
       "      <td>Cumings, Mrs. John Bradley (Florence Briggs Th...</td>\n",
       "      <td>female</td>\n",
       "      <td>38.0</td>\n",
       "      <td>1</td>\n",
       "      <td>0</td>\n",
       "      <td>PC 17599</td>\n",
       "      <td>71.2833</td>\n",
       "      <td>C85</td>\n",
       "      <td>C</td>\n",
       "    </tr>\n",
       "    <tr>\n",
       "      <th>2</th>\n",
       "      <td>3</td>\n",
       "      <td>1</td>\n",
       "      <td>3</td>\n",
       "      <td>Heikkinen, Miss. Laina</td>\n",
       "      <td>female</td>\n",
       "      <td>26.0</td>\n",
       "      <td>0</td>\n",
       "      <td>0</td>\n",
       "      <td>STON/O2. 3101282</td>\n",
       "      <td>7.9250</td>\n",
       "      <td>NaN</td>\n",
       "      <td>S</td>\n",
       "    </tr>\n",
       "    <tr>\n",
       "      <th>3</th>\n",
       "      <td>4</td>\n",
       "      <td>1</td>\n",
       "      <td>1</td>\n",
       "      <td>Futrelle, Mrs. Jacques Heath (Lily May Peel)</td>\n",
       "      <td>female</td>\n",
       "      <td>35.0</td>\n",
       "      <td>1</td>\n",
       "      <td>0</td>\n",
       "      <td>113803</td>\n",
       "      <td>53.1000</td>\n",
       "      <td>C123</td>\n",
       "      <td>S</td>\n",
       "    </tr>\n",
       "    <tr>\n",
       "      <th>4</th>\n",
       "      <td>5</td>\n",
       "      <td>0</td>\n",
       "      <td>3</td>\n",
       "      <td>Allen, Mr. William Henry</td>\n",
       "      <td>male</td>\n",
       "      <td>35.0</td>\n",
       "      <td>0</td>\n",
       "      <td>0</td>\n",
       "      <td>373450</td>\n",
       "      <td>8.0500</td>\n",
       "      <td>NaN</td>\n",
       "      <td>S</td>\n",
       "    </tr>\n",
       "  </tbody>\n",
       "</table>\n",
       "</div>"
      ],
      "text/plain": [
       "   PassengerId  Survived  Pclass  \\\n",
       "0            1         0       3   \n",
       "1            2         1       1   \n",
       "2            3         1       3   \n",
       "3            4         1       1   \n",
       "4            5         0       3   \n",
       "\n",
       "                                                Name     Sex   Age  SibSp  \\\n",
       "0                            Braund, Mr. Owen Harris    male  22.0      1   \n",
       "1  Cumings, Mrs. John Bradley (Florence Briggs Th...  female  38.0      1   \n",
       "2                             Heikkinen, Miss. Laina  female  26.0      0   \n",
       "3       Futrelle, Mrs. Jacques Heath (Lily May Peel)  female  35.0      1   \n",
       "4                           Allen, Mr. William Henry    male  35.0      0   \n",
       "\n",
       "   Parch            Ticket     Fare Cabin Embarked  \n",
       "0      0         A/5 21171   7.2500   NaN        S  \n",
       "1      0          PC 17599  71.2833   C85        C  \n",
       "2      0  STON/O2. 3101282   7.9250   NaN        S  \n",
       "3      0            113803  53.1000  C123        S  \n",
       "4      0            373450   8.0500   NaN        S  "
      ]
     },
     "execution_count": 7,
     "metadata": {},
     "output_type": "execute_result"
    }
   ],
   "source": [
    "dataset.head()"
   ]
  },
  {
   "cell_type": "code",
   "execution_count": 8,
   "id": "db9cc262-765b-4df3-a26b-347d9ca2a134",
   "metadata": {},
   "outputs": [
    {
     "name": "stdout",
     "output_type": "stream",
     "text": [
      "<class 'pandas.core.frame.DataFrame'>\n",
      "RangeIndex: 891 entries, 0 to 890\n",
      "Data columns (total 12 columns):\n",
      " #   Column       Non-Null Count  Dtype  \n",
      "---  ------       --------------  -----  \n",
      " 0   PassengerId  891 non-null    int64  \n",
      " 1   Survived     891 non-null    int64  \n",
      " 2   Pclass       891 non-null    int64  \n",
      " 3   Name         891 non-null    object \n",
      " 4   Sex          891 non-null    object \n",
      " 5   Age          714 non-null    float64\n",
      " 6   SibSp        891 non-null    int64  \n",
      " 7   Parch        891 non-null    int64  \n",
      " 8   Ticket       891 non-null    object \n",
      " 9   Fare         891 non-null    float64\n",
      " 10  Cabin        204 non-null    object \n",
      " 11  Embarked     889 non-null    object \n",
      "dtypes: float64(2), int64(5), object(5)\n",
      "memory usage: 83.7+ KB\n"
     ]
    }
   ],
   "source": [
    "dataset.info()"
   ]
  },
  {
   "cell_type": "code",
   "execution_count": 52,
   "id": "e73ad2f9-a636-4295-90f3-7910b8c1b8d8",
   "metadata": {},
   "outputs": [
    {
     "data": {
      "text/html": [
       "<div>\n",
       "<style scoped>\n",
       "    .dataframe tbody tr th:only-of-type {\n",
       "        vertical-align: middle;\n",
       "    }\n",
       "\n",
       "    .dataframe tbody tr th {\n",
       "        vertical-align: top;\n",
       "    }\n",
       "\n",
       "    .dataframe thead th {\n",
       "        text-align: right;\n",
       "    }\n",
       "</style>\n",
       "<table border=\"1\" class=\"dataframe\">\n",
       "  <thead>\n",
       "    <tr style=\"text-align: right;\">\n",
       "      <th></th>\n",
       "      <th>count</th>\n",
       "      <th>mean</th>\n",
       "      <th>std</th>\n",
       "      <th>min</th>\n",
       "      <th>25%</th>\n",
       "      <th>50%</th>\n",
       "      <th>75%</th>\n",
       "      <th>max</th>\n",
       "    </tr>\n",
       "  </thead>\n",
       "  <tbody>\n",
       "    <tr>\n",
       "      <th>PassengerId</th>\n",
       "      <td>891.0</td>\n",
       "      <td>446.000000</td>\n",
       "      <td>257.353842</td>\n",
       "      <td>1.00</td>\n",
       "      <td>223.5000</td>\n",
       "      <td>446.0000</td>\n",
       "      <td>668.5</td>\n",
       "      <td>891.0000</td>\n",
       "    </tr>\n",
       "    <tr>\n",
       "      <th>Survived</th>\n",
       "      <td>891.0</td>\n",
       "      <td>0.383838</td>\n",
       "      <td>0.486592</td>\n",
       "      <td>0.00</td>\n",
       "      <td>0.0000</td>\n",
       "      <td>0.0000</td>\n",
       "      <td>1.0</td>\n",
       "      <td>1.0000</td>\n",
       "    </tr>\n",
       "    <tr>\n",
       "      <th>Pclass</th>\n",
       "      <td>891.0</td>\n",
       "      <td>2.308642</td>\n",
       "      <td>0.836071</td>\n",
       "      <td>1.00</td>\n",
       "      <td>2.0000</td>\n",
       "      <td>3.0000</td>\n",
       "      <td>3.0</td>\n",
       "      <td>3.0000</td>\n",
       "    </tr>\n",
       "    <tr>\n",
       "      <th>Age</th>\n",
       "      <td>714.0</td>\n",
       "      <td>29.699118</td>\n",
       "      <td>14.526497</td>\n",
       "      <td>0.42</td>\n",
       "      <td>20.1250</td>\n",
       "      <td>28.0000</td>\n",
       "      <td>38.0</td>\n",
       "      <td>80.0000</td>\n",
       "    </tr>\n",
       "    <tr>\n",
       "      <th>SibSp</th>\n",
       "      <td>891.0</td>\n",
       "      <td>0.523008</td>\n",
       "      <td>1.102743</td>\n",
       "      <td>0.00</td>\n",
       "      <td>0.0000</td>\n",
       "      <td>0.0000</td>\n",
       "      <td>1.0</td>\n",
       "      <td>8.0000</td>\n",
       "    </tr>\n",
       "    <tr>\n",
       "      <th>Parch</th>\n",
       "      <td>891.0</td>\n",
       "      <td>0.381594</td>\n",
       "      <td>0.806057</td>\n",
       "      <td>0.00</td>\n",
       "      <td>0.0000</td>\n",
       "      <td>0.0000</td>\n",
       "      <td>0.0</td>\n",
       "      <td>6.0000</td>\n",
       "    </tr>\n",
       "    <tr>\n",
       "      <th>Fare</th>\n",
       "      <td>891.0</td>\n",
       "      <td>32.204208</td>\n",
       "      <td>49.693429</td>\n",
       "      <td>0.00</td>\n",
       "      <td>7.9104</td>\n",
       "      <td>14.4542</td>\n",
       "      <td>31.0</td>\n",
       "      <td>512.3292</td>\n",
       "    </tr>\n",
       "  </tbody>\n",
       "</table>\n",
       "</div>"
      ],
      "text/plain": [
       "             count        mean         std   min       25%       50%    75%  \\\n",
       "PassengerId  891.0  446.000000  257.353842  1.00  223.5000  446.0000  668.5   \n",
       "Survived     891.0    0.383838    0.486592  0.00    0.0000    0.0000    1.0   \n",
       "Pclass       891.0    2.308642    0.836071  1.00    2.0000    3.0000    3.0   \n",
       "Age          714.0   29.699118   14.526497  0.42   20.1250   28.0000   38.0   \n",
       "SibSp        891.0    0.523008    1.102743  0.00    0.0000    0.0000    1.0   \n",
       "Parch        891.0    0.381594    0.806057  0.00    0.0000    0.0000    0.0   \n",
       "Fare         891.0   32.204208   49.693429  0.00    7.9104   14.4542   31.0   \n",
       "\n",
       "                  max  \n",
       "PassengerId  891.0000  \n",
       "Survived       1.0000  \n",
       "Pclass         3.0000  \n",
       "Age           80.0000  \n",
       "SibSp          8.0000  \n",
       "Parch          6.0000  \n",
       "Fare         512.3292  "
      ]
     },
     "execution_count": 52,
     "metadata": {},
     "output_type": "execute_result"
    }
   ],
   "source": [
    "dataset.describe().T #T ile matrisin transpozesini alabiliriz"
   ]
  },
  {
   "cell_type": "code",
   "execution_count": 10,
   "id": "c43741d7-8091-4dbe-b397-eaec3f400907",
   "metadata": {},
   "outputs": [
    {
     "data": {
      "text/plain": [
       "PassengerId      0\n",
       "Survived         0\n",
       "Pclass           0\n",
       "Name             0\n",
       "Sex              0\n",
       "Age            177\n",
       "SibSp            0\n",
       "Parch            0\n",
       "Ticket           0\n",
       "Fare             0\n",
       "Cabin          687\n",
       "Embarked         2\n",
       "dtype: int64"
      ]
     },
     "execution_count": 10,
     "metadata": {},
     "output_type": "execute_result"
    }
   ],
   "source": [
    "dataset.isnull().sum()"
   ]
  },
  {
   "cell_type": "code",
   "execution_count": 11,
   "id": "5964a5e1-13f0-47f0-bd8a-d8b968b628bf",
   "metadata": {},
   "outputs": [
    {
     "data": {
      "text/plain": [
       "pandas.core.frame.DataFrame"
      ]
     },
     "execution_count": 11,
     "metadata": {},
     "output_type": "execute_result"
    }
   ],
   "source": [
    "type(dataset)"
   ]
  },
  {
   "cell_type": "code",
   "execution_count": 12,
   "id": "814c98c2-cbaa-4ada-9689-87a3b644ec12",
   "metadata": {},
   "outputs": [
    {
     "data": {
      "text/plain": [
       "PassengerId    891\n",
       "Survived       891\n",
       "Pclass         891\n",
       "Name           891\n",
       "Sex            891\n",
       "Age            714\n",
       "SibSp          891\n",
       "Parch          891\n",
       "Ticket         891\n",
       "Fare           891\n",
       "Cabin          204\n",
       "Embarked       889\n",
       "dtype: int64"
      ]
     },
     "execution_count": 12,
     "metadata": {},
     "output_type": "execute_result"
    }
   ],
   "source": [
    "dataset.count()"
   ]
  },
  {
   "cell_type": "code",
   "execution_count": 13,
   "id": "184f5c41-4fcf-481b-9aa8-f4e90986461f",
   "metadata": {},
   "outputs": [
    {
     "data": {
      "text/plain": [
       "(891, 12)"
      ]
     },
     "execution_count": 13,
     "metadata": {},
     "output_type": "execute_result"
    }
   ],
   "source": [
    "dataset.shape"
   ]
  },
  {
   "cell_type": "markdown",
   "id": "6d1de1ea-e441-4b3c-af6a-f6674b296342",
   "metadata": {},
   "source": [
    "## 2. Keşifsel Veri Analizi (Exploratory Data Analysis - EDA)"
   ]
  },
  {
   "cell_type": "markdown",
   "id": "046b3a8f-d813-41ad-b066-3392e6d5a659",
   "metadata": {},
   "source": [
    "### 1. Kazada ölenlerin yaş ortalamasını bulunuz"
   ]
  },
  {
   "cell_type": "code",
   "execution_count": 14,
   "id": "27b838f0-453b-4a86-bcbc-6ab6b89dfeb6",
   "metadata": {},
   "outputs": [],
   "source": [
    "dead = dataset[dataset['Survived'] == 0]"
   ]
  },
  {
   "cell_type": "code",
   "execution_count": 15,
   "id": "81e172e3-ac5b-440f-b4ac-11f09379df9a",
   "metadata": {},
   "outputs": [
    {
     "data": {
      "text/plain": [
       "PassengerId    549\n",
       "Survived       549\n",
       "Pclass         549\n",
       "Name           549\n",
       "Sex            549\n",
       "Age            424\n",
       "SibSp          549\n",
       "Parch          549\n",
       "Ticket         549\n",
       "Fare           549\n",
       "Cabin           68\n",
       "Embarked       549\n",
       "dtype: int64"
      ]
     },
     "execution_count": 15,
     "metadata": {},
     "output_type": "execute_result"
    }
   ],
   "source": [
    "dead.count()"
   ]
  },
  {
   "cell_type": "code",
   "execution_count": 16,
   "id": "72ac1209-76c6-408a-9199-d83e9370889a",
   "metadata": {},
   "outputs": [],
   "source": [
    "dead_age_mean = dead['Age'].mean()\n"
   ]
  },
  {
   "cell_type": "code",
   "execution_count": 17,
   "id": "51ae8720-cc13-4694-86c1-9d8faedd3e51",
   "metadata": {},
   "outputs": [
    {
     "name": "stdout",
     "output_type": "stream",
     "text": [
      "Kazada ölenlerin yaş ortalaması: 31\n"
     ]
    }
   ],
   "source": [
    "#.0f bir formatlama şeklidir, virgülden sonra 0 basamak göstermemizi sağlar.\n",
    "print(f\"Kazada ölenlerin yaş ortalaması: {dead_age_mean:.0f}\") "
   ]
  },
  {
   "cell_type": "markdown",
   "id": "f2433d58-0753-4372-b5b3-dc5ac023b1ad",
   "metadata": {},
   "source": [
    "### 2. Kazada ölenlerin bilet fiyatlarının ortalamasını ve medyanını bulunuz"
   ]
  },
  {
   "cell_type": "code",
   "execution_count": 18,
   "id": "adc1b11d-3f2a-4954-8978-06cc19d2cc74",
   "metadata": {},
   "outputs": [],
   "source": [
    "dead_fare_mean = dead['Fare'].mean()\n",
    "dead_fare_median = dead['Fare'].median()"
   ]
  },
  {
   "cell_type": "code",
   "execution_count": 19,
   "id": "615329c5-1c78-46d1-a3b4-a6fc7390d446",
   "metadata": {},
   "outputs": [
    {
     "name": "stdout",
     "output_type": "stream",
     "text": [
      "Kazada ölenlerin bilet fiyatlarının ortalaması: 22.1179\n",
      "Kazada ölenlerin bilet fiyatlarının medyan değeri: 30.6262\n"
     ]
    }
   ],
   "source": [
    "print(f\"Kazada ölenlerin bilet fiyatlarının ortalaması: {dead_fare_mean:.4f}\") \n",
    "print(f\"Kazada ölenlerin bilet fiyatlarının medyan değeri: {dead_age_mean:.4f}\") "
   ]
  },
  {
   "cell_type": "markdown",
   "id": "ce1eb37b-bbbf-4608-8ef3-94466c78a039",
   "metadata": {},
   "source": [
    "### 3. Kazada ölen erkeklerin yaş ortalamasını bulunuz"
   ]
  },
  {
   "cell_type": "code",
   "execution_count": 20,
   "id": "340e59ea-d080-46c8-b5b1-2092f7a140b0",
   "metadata": {},
   "outputs": [],
   "source": [
    "dead_men = dead[dead['Sex'] == \"male\"]"
   ]
  },
  {
   "cell_type": "code",
   "execution_count": 21,
   "id": "6f300285-8ec1-4b34-8c9c-f3efeecd779b",
   "metadata": {},
   "outputs": [],
   "source": [
    "dead_men_age_mean = dead_men['Age'].mean()"
   ]
  },
  {
   "cell_type": "code",
   "execution_count": 22,
   "id": "8df6dbdb-cdc8-46ee-acdc-f266d0fecf84",
   "metadata": {},
   "outputs": [
    {
     "name": "stdout",
     "output_type": "stream",
     "text": [
      "Kazada ölen erkeklerin yaş ortalaması: 32\n"
     ]
    }
   ],
   "source": [
    "print(f\"Kazada ölen erkeklerin yaş ortalaması: {dead_men_age_mean:.0f}\") "
   ]
  },
  {
   "cell_type": "markdown",
   "id": "d41198c6-340d-456c-9add-2b871df3ed68",
   "metadata": {},
   "source": [
    "### 4. Kazada ölen Kadınların yaş ortalamasını bulunuz"
   ]
  },
  {
   "cell_type": "code",
   "execution_count": 23,
   "id": "a8e76a05-8ff9-472c-9a81-e25e9b24a166",
   "metadata": {},
   "outputs": [],
   "source": [
    "dead_female = dead[dead['Sex'] == \"female\"]"
   ]
  },
  {
   "cell_type": "code",
   "execution_count": 24,
   "id": "cf2ac281-5f6b-4ad4-a2d0-6782821a041d",
   "metadata": {},
   "outputs": [],
   "source": [
    "dead_female_age_mean = dead_female['Age'].mean()"
   ]
  },
  {
   "cell_type": "code",
   "execution_count": 25,
   "id": "1da8f51a-3d41-468e-b47a-e774cdd38531",
   "metadata": {},
   "outputs": [
    {
     "name": "stdout",
     "output_type": "stream",
     "text": [
      "Kazada ölen kadınların yaş ortalaması: 25\n"
     ]
    }
   ],
   "source": [
    "print(f\"Kazada ölen kadınların yaş ortalaması: {dead_female_age_mean:.0f}\") "
   ]
  },
  {
   "cell_type": "markdown",
   "id": "e3e3535f-f2b3-442e-a8ed-43e7d9e0985d",
   "metadata": {},
   "source": [
    "### 5. Kazadan kurtulanların yaş ortalamasını bulunuz"
   ]
  },
  {
   "cell_type": "code",
   "execution_count": 26,
   "id": "5365dfc7-101f-4eb9-95c7-4b4b298a67f2",
   "metadata": {},
   "outputs": [],
   "source": [
    "survived = dataset[dataset['Survived'] == 1]"
   ]
  },
  {
   "cell_type": "code",
   "execution_count": 27,
   "id": "447b1ed0-56b3-45ec-aa36-4971793f787a",
   "metadata": {},
   "outputs": [],
   "source": [
    "survived_mean = survived['Age'].mean()"
   ]
  },
  {
   "cell_type": "code",
   "execution_count": 28,
   "id": "b7b3af3c-8dc0-4cc5-ad8c-244a03b59972",
   "metadata": {},
   "outputs": [
    {
     "name": "stdout",
     "output_type": "stream",
     "text": [
      "Kazadan kurtulanların yaş ortalaması: 28\n"
     ]
    }
   ],
   "source": [
    "print(f\"Kazadan kurtulanların yaş ortalaması: {survived_mean:.0f}\")"
   ]
  },
  {
   "cell_type": "markdown",
   "id": "aeabd67e-9748-4193-9c40-928e566abf67",
   "metadata": {},
   "source": [
    "### 6. Kazadan kurtulanların bilet fiyatlarının ortalamasını bulunuz"
   ]
  },
  {
   "cell_type": "code",
   "execution_count": 29,
   "id": "e069e872-d1c1-4349-9aa6-b5470af97126",
   "metadata": {},
   "outputs": [],
   "source": [
    "survived_fare_mean = survived['Fare'].mean()"
   ]
  },
  {
   "cell_type": "code",
   "execution_count": 30,
   "id": "d271aec1-c15a-4440-b102-8ae660753251",
   "metadata": {},
   "outputs": [
    {
     "name": "stdout",
     "output_type": "stream",
     "text": [
      "Kazadan kurtulanların bilet fiyatlarının ortalaması: 48.3954\n"
     ]
    }
   ],
   "source": [
    "print(f\"Kazadan kurtulanların bilet fiyatlarının ortalaması: {survived_fare_mean:.4f}\")"
   ]
  },
  {
   "cell_type": "markdown",
   "id": "a40000ec-856c-4028-9a34-0bb3c4b91ebd",
   "metadata": {},
   "source": [
    "### 7. Kazadan kurtulan toplam kişi sayısını bulunuz"
   ]
  },
  {
   "cell_type": "code",
   "execution_count": 31,
   "id": "c19b1fcf-2468-4e2c-b38b-f56cabd3b1fd",
   "metadata": {},
   "outputs": [
    {
     "data": {
      "text/plain": [
       "PassengerId    342\n",
       "Survived       342\n",
       "Pclass         342\n",
       "Name           342\n",
       "Sex            342\n",
       "Age            290\n",
       "SibSp          342\n",
       "Parch          342\n",
       "Ticket         342\n",
       "Fare           342\n",
       "Cabin          136\n",
       "Embarked       340\n",
       "dtype: int64"
      ]
     },
     "execution_count": 31,
     "metadata": {},
     "output_type": "execute_result"
    }
   ],
   "source": [
    "survived.count()"
   ]
  },
  {
   "cell_type": "code",
   "execution_count": 32,
   "id": "24280b10-c8a4-4f0a-9ef3-76a574d064f4",
   "metadata": {},
   "outputs": [],
   "source": [
    "survived_count = survived['PassengerId'].count()"
   ]
  },
  {
   "cell_type": "code",
   "execution_count": 33,
   "id": "f82e4558-af6d-4d14-adf0-7771ca428550",
   "metadata": {},
   "outputs": [
    {
     "name": "stdout",
     "output_type": "stream",
     "text": [
      "Kazadan kurtulan toplam kişi sayısı: 342\n"
     ]
    }
   ],
   "source": [
    "print(f\"Kazadan kurtulan toplam kişi sayısı: {survived_count}\")"
   ]
  },
  {
   "cell_type": "markdown",
   "id": "a7026a59-1390-4bc6-b48e-821b0c3bfe74",
   "metadata": {},
   "source": [
    "### 8. 10 yaşından küçüklerin bilet fiyatlarının medyan değerini bulunuz"
   ]
  },
  {
   "cell_type": "code",
   "execution_count": 34,
   "id": "d903b10f-2ab5-4c5b-9b7a-3b5ddf673e7c",
   "metadata": {},
   "outputs": [],
   "source": [
    "child = dataset[dataset['Age'] < 10]"
   ]
  },
  {
   "cell_type": "code",
   "execution_count": 35,
   "id": "29d22121-7ff6-4b85-adcf-ad7530033785",
   "metadata": {},
   "outputs": [],
   "source": [
    "child_fare_median = child['Fare'].median()"
   ]
  },
  {
   "cell_type": "code",
   "execution_count": 36,
   "id": "8e4ac83a-759d-498c-a248-b9dd10d4895a",
   "metadata": {},
   "outputs": [
    {
     "name": "stdout",
     "output_type": "stream",
     "text": [
      "10 yaşından küçük çocukların bilet fiyatlarının medyan değeri: 27.0000\n"
     ]
    }
   ],
   "source": [
    "print(f\"10 yaşından küçük çocukların bilet fiyatlarının medyan değeri: {child_fare_median:.4f}\")"
   ]
  },
  {
   "cell_type": "markdown",
   "id": "07303899-1146-4c64-a46a-f74c0e3ea0c6",
   "metadata": {},
   "source": [
    "### 9. 1.sınıf, 2.sınıf ve 3.sınıf bilet fiyatlarının ortalama ve medyanlarını karşılaştırınız. (Pclass değişkeni sınıfları barındırmaktadır.)"
   ]
  },
  {
   "cell_type": "code",
   "execution_count": 37,
   "id": "ea19738c-e8cf-4b4d-ae24-af94d9bbe957",
   "metadata": {},
   "outputs": [],
   "source": [
    "fare_groupby_pclass = dataset.groupby('Pclass')['Fare']"
   ]
  },
  {
   "cell_type": "code",
   "execution_count": 38,
   "id": "99ee1526-26e4-4223-a39d-7961a1e7c4d0",
   "metadata": {},
   "outputs": [
    {
     "data": {
      "text/plain": [
       "0      7.2500\n",
       "1     71.2833\n",
       "2      7.9250\n",
       "3     53.1000\n",
       "4      8.0500\n",
       "5      8.4583\n",
       "6     51.8625\n",
       "7     21.0750\n",
       "9     30.0708\n",
       "11    26.5500\n",
       "15    16.0000\n",
       "17    13.0000\n",
       "20    26.0000\n",
       "21    13.0000\n",
       "23    35.5000\n",
       "Name: Fare, dtype: float64"
      ]
     },
     "execution_count": 38,
     "metadata": {},
     "output_type": "execute_result"
    }
   ],
   "source": [
    "fare_groupby_pclass.head()"
   ]
  },
  {
   "cell_type": "code",
   "execution_count": 39,
   "id": "fa8225e0-215d-461b-aa81-33ab4de58484",
   "metadata": {},
   "outputs": [],
   "source": [
    "fare_mean = fare_groupby_pclass.mean()"
   ]
  },
  {
   "cell_type": "code",
   "execution_count": 40,
   "id": "a074b018-d09f-448a-a01a-cf57b9765c09",
   "metadata": {},
   "outputs": [
    {
     "name": "stdout",
     "output_type": "stream",
     "text": [
      "Bilet fiyatları ortalaması: Pclass\n",
      "1    84.154687\n",
      "2    20.662183\n",
      "3    13.675550\n",
      "Name: Fare, dtype: float64\n"
     ]
    }
   ],
   "source": [
    "print(f\"Bilet fiyatları ortalaması: {fare_mean}\")"
   ]
  },
  {
   "cell_type": "code",
   "execution_count": 41,
   "id": "d3813adc-56c3-49a2-9fd8-8a186e005e1e",
   "metadata": {},
   "outputs": [],
   "source": [
    "fare_median = fare_groupby_pclass.median()"
   ]
  },
  {
   "cell_type": "code",
   "execution_count": 42,
   "id": "0d2c7966-cf65-459f-a99c-10e90f695474",
   "metadata": {},
   "outputs": [
    {
     "name": "stdout",
     "output_type": "stream",
     "text": [
      "Bilet fiyatlarının medyan değeri: Pclass\n",
      "1    60.2875\n",
      "2    14.2500\n",
      "3     8.0500\n",
      "Name: Fare, dtype: float64\n"
     ]
    }
   ],
   "source": [
    "print(f\"Bilet fiyatlarının medyan değeri: {fare_median}\")"
   ]
  },
  {
   "cell_type": "markdown",
   "id": "c1e50abc-9aa2-4e8b-8de2-766e166769b7",
   "metadata": {},
   "source": [
    "#### Ortalama ve medyan farkının karşılaştırılması\n",
    " 1.sınıf biletlerdeki ortalama medyan değeri arasındaki farkın (84.15 - 60.28 = 23.87) bu kadar büyük olmasının sebebi bu sınıftaki çok yüksek fiyatlı sınırlı sayıdaki biletler olabilir.\n",
    " 2. ve 3. sınıf biletlerinin ortalama ve medyan değerleri arasında fark ise bu sınıflarda satılan bilet fiyatlarının daha homojen olduğunu gösteriyor diyebiliriz"
   ]
  },
  {
   "cell_type": "markdown",
   "id": "6f3cee13-c09a-4522-9c63-07a919f56976",
   "metadata": {},
   "source": [
    "### 10. Kazada ölen kadınların oranı ile erkeklerin oranını karşılaştırınız. (Örnek: erkekler için; ölen erkeklerin, erkek sayısına bölümü bu oranı vermektedir.)"
   ]
  },
  {
   "cell_type": "code",
   "execution_count": 43,
   "id": "c8983005-fc1c-49e6-ae52-bc7b5fe9432d",
   "metadata": {},
   "outputs": [],
   "source": [
    "female = dataset[dataset['Sex'] == 'female']"
   ]
  },
  {
   "cell_type": "code",
   "execution_count": 44,
   "id": "9b533174-4042-4d85-bebf-7d2a670d1932",
   "metadata": {},
   "outputs": [],
   "source": [
    "male = dataset[dataset['Sex'] == 'male']"
   ]
  },
  {
   "cell_type": "code",
   "execution_count": 45,
   "id": "640e8eff-56b4-41bd-b0bf-74bb497d4d85",
   "metadata": {},
   "outputs": [],
   "source": [
    "female_count = female.shape[0]\n",
    "male_count = male.shape[0]"
   ]
  },
  {
   "cell_type": "code",
   "execution_count": 46,
   "id": "b945c494-acbc-49d5-921d-178b7fd8e0a2",
   "metadata": {},
   "outputs": [
    {
     "name": "stdout",
     "output_type": "stream",
     "text": [
      "Kadın sayısı: 314\n",
      "Erkek sayısı: 577\n"
     ]
    }
   ],
   "source": [
    "print(f\"Kadın sayısı: {female_count}\")\n",
    "print(f\"Erkek sayısı: {male_count}\")"
   ]
  },
  {
   "cell_type": "code",
   "execution_count": 47,
   "id": "7ed1738c-0507-40f4-ae15-383f3ca33cfe",
   "metadata": {},
   "outputs": [],
   "source": [
    "dead_female_count = female[female['Survived'] == 0].shape[0]"
   ]
  },
  {
   "cell_type": "code",
   "execution_count": 48,
   "id": "6a32317f-663a-4fd0-8e8a-316de51df742",
   "metadata": {},
   "outputs": [],
   "source": [
    "dead_male_count = male[male['Survived'] == 0].shape[0]"
   ]
  },
  {
   "cell_type": "code",
   "execution_count": 49,
   "id": "5771a0e5-9714-4b27-849f-b80d35705de9",
   "metadata": {},
   "outputs": [
    {
     "name": "stdout",
     "output_type": "stream",
     "text": [
      "Ölen kadın sayısı: 81\n",
      "Ölen erkek sayısı: 468\n"
     ]
    }
   ],
   "source": [
    "print(f\"Ölen kadın sayısı: {dead_female_count}\")\n",
    "print(f\"Ölen erkek sayısı: {dead_male_count}\")"
   ]
  },
  {
   "cell_type": "code",
   "execution_count": 50,
   "id": "49113e0b-42c0-499a-b2f9-d8f32231d907",
   "metadata": {},
   "outputs": [],
   "source": [
    "dead_female_ratio = dead_female_count/female_count\n",
    "dead_male_ratio = dead_male_count/male_count"
   ]
  },
  {
   "cell_type": "code",
   "execution_count": 51,
   "id": "e3f1582b-ddcc-4d79-b65a-48dd5f24b5d5",
   "metadata": {},
   "outputs": [
    {
     "name": "stdout",
     "output_type": "stream",
     "text": [
      "Ölen kadın oranı: 0.26\n",
      "Ölen erkek oranı: 0.81\n"
     ]
    }
   ],
   "source": [
    "print(f\"Ölen kadın oranı: {dead_female_ratio:.2f}\")\n",
    "print(f\"Ölen erkek oranı: {dead_male_ratio:.2f}\")"
   ]
  },
  {
   "cell_type": "code",
   "execution_count": null,
   "id": "7dd491bb-a70c-45f5-9a08-37729cf3a8f3",
   "metadata": {},
   "outputs": [],
   "source": []
  }
 ],
 "metadata": {
  "kernelspec": {
   "display_name": "Python (patikaEnv)",
   "language": "python",
   "name": "myenv"
  },
  "language_info": {
   "codemirror_mode": {
    "name": "ipython",
    "version": 3
   },
   "file_extension": ".py",
   "mimetype": "text/x-python",
   "name": "python",
   "nbconvert_exporter": "python",
   "pygments_lexer": "ipython3",
   "version": "3.13.2"
  }
 },
 "nbformat": 4,
 "nbformat_minor": 5
}
