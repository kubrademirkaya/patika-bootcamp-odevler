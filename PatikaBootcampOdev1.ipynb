{
 "cells": [
  {
   "cell_type": "code",
   "execution_count": 1,
   "id": "401e3d39-e0ba-4be8-a4d5-7f0451a2a5bb",
   "metadata": {},
   "outputs": [],
   "source": [
    "##ödevler --- ilk değerler kullanıcıdan alınacak"
   ]
  },
  {
   "cell_type": "code",
   "execution_count": 11,
   "id": "769f485d-0349-4b7d-af9c-c26fd4d7ce15",
   "metadata": {},
   "outputs": [
    {
     "name": "stdin",
     "output_type": "stream",
     "text": [
      "Lütfen bir değer giriniz:  4\n"
     ]
    },
    {
     "name": "stdout",
     "output_type": "stream",
     "text": [
      "4  pozitif bir sayıdır.\n"
     ]
    }
   ],
   "source": [
    "# girilen sayının pozitif, negatif veya sıfır olduğunu yazan koşul\n",
    "number = int(input(\"Lütfen bir değer giriniz: \"))\n",
    "if number < 0:\n",
    "    print(number, \" negatif bir sayıdır.\")\n",
    "elif number > 0:\n",
    "    print(number, \" pozitif bir sayıdır.\")\n",
    "else:\n",
    "    print(\"Sıfır değeridir.\")"
   ]
  },
  {
   "cell_type": "code",
   "execution_count": 13,
   "id": "298da46f-711f-49d1-be75-efdeb493c7d1",
   "metadata": {},
   "outputs": [
    {
     "name": "stdin",
     "output_type": "stream",
     "text": [
      "Lütfen bir sayı giriniz:  6\n"
     ]
    },
    {
     "name": "stdout",
     "output_type": "stream",
     "text": [
      "6  çift bir sayıdır.\n"
     ]
    }
   ],
   "source": [
    "# girilen sayının tek mi çift mi olduğunu yazan koşul\n",
    "number = int(input(\"Lütfen bir sayı giriniz: \"))\n",
    "if number%2 == 0:\n",
    "    print(number, \" çift bir sayıdır.\")\n",
    "else:\n",
    "    print(number, \" tek bir sayıdır.\")"
   ]
  },
  {
   "cell_type": "code",
   "execution_count": 16,
   "id": "b92e170c-2798-4c22-8eac-cc0e83d7bb2a",
   "metadata": {},
   "outputs": [
    {
     "name": "stdin",
     "output_type": "stream",
     "text": [
      "Puanınızı giriniz:  110\n"
     ]
    },
    {
     "name": "stdout",
     "output_type": "stream",
     "text": [
      "Puan bilgisi 100'den büyük ve 0'dan küçük olamaz. Tekrar deneyin.\n"
     ]
    },
    {
     "name": "stdin",
     "output_type": "stream",
     "text": [
      "Puanınızı giriniz:  -5\n"
     ]
    },
    {
     "name": "stdout",
     "output_type": "stream",
     "text": [
      "Puan bilgisi 100'den büyük ve 0'dan küçük olamaz. Tekrar deneyin.\n"
     ]
    },
    {
     "name": "stdin",
     "output_type": "stream",
     "text": [
      "Puanınızı giriniz:  83\n"
     ]
    },
    {
     "name": "stdout",
     "output_type": "stream",
     "text": [
      "Harf Notunuz: A\n"
     ]
    }
   ],
   "source": [
    "# Girilen nota göre harf aralığını yazan koşul (80-100 A, 60-80 B vs.)\n",
    "score = int(input(\"Puanınızı giriniz: \"))\n",
    "\n",
    "while score > 100 or score < 0:\n",
    "    print(\"Puan bilgisi 100'den büyük ve 0'dan küçük olamaz. Tekrar deneyin.\")\n",
    "    score = int(input(\"Puanınızı giriniz: \"))\n",
    "\n",
    "if 100 >= score > 80:\n",
    "    print(\"Harf Notunuz: A\")\n",
    "elif 80 >= score > 60:\n",
    "    print(\"Harf Notunuz: B\")\n",
    "elif 60 >= score > 40:\n",
    "    print(\"Harf Notunuz: C\")\n",
    "else:\n",
    "    print(\"Harf Notunuz: F\")"
   ]
  },
  {
   "cell_type": "code",
   "execution_count": 18,
   "id": "b9032779-616b-4c9b-a045-ffdcb82ad6ae",
   "metadata": {},
   "outputs": [
    {
     "name": "stdin",
     "output_type": "stream",
     "text": [
      "İsminizi giriniz:  gülgün\n"
     ]
    },
    {
     "name": "stdout",
     "output_type": "stream",
     "text": [
      "Uzun bir isminiz var\n"
     ]
    }
   ],
   "source": [
    "# girilen ismin karakter sayısı 5den büyükse \"uzun bir isminiz var\" değilse ismini yazsın\n",
    "name = str(input(\"İsminizi giriniz: \"))\n",
    "\n",
    "if len(name) > 5:\n",
    "    print(\"Uzun bir isminiz var\")\n",
    "else:\n",
    "    print(name)"
   ]
  },
  {
   "cell_type": "code",
   "execution_count": 40,
   "id": "4d31d17c-2afa-450b-84e0-beec59463b1b",
   "metadata": {},
   "outputs": [
    {
     "name": "stdin",
     "output_type": "stream",
     "text": [
      "Bir sayı giriniz:  4\n"
     ]
    },
    {
     "name": "stdout",
     "output_type": "stream",
     "text": [
      "4  asal değildir.\n"
     ]
    }
   ],
   "source": [
    "#girilen sayının asal olup olmadığını bulan kod dizisi. (for ve while)\n",
    "number = int(input(\"Bir sayı giriniz: \"))\n",
    "\n",
    "if number > 1:\n",
    "    for i in range(2, number):\n",
    "        if number % i == 0:\n",
    "            print(number, \" asal değildir.\")\n",
    "            break\n",
    "    else:\n",
    "        print(number, \" asaldır.\")\n",
    "else:\n",
    "    print(number, \" asal değildir.\")\n",
    "        "
   ]
  },
  {
   "cell_type": "code",
   "execution_count": 44,
   "id": "0270ccbe-fe07-46cd-a71d-52b861a866f3",
   "metadata": {},
   "outputs": [
    {
     "name": "stdin",
     "output_type": "stream",
     "text": [
      "Bir sayı giriniz:  -2\n"
     ]
    },
    {
     "name": "stdout",
     "output_type": "stream",
     "text": [
      "Girilen sayı negatif olamaz.\n"
     ]
    },
    {
     "name": "stdin",
     "output_type": "stream",
     "text": [
      "Bir sayı giriniz:  3\n"
     ]
    },
    {
     "name": "stdout",
     "output_type": "stream",
     "text": [
      "Faktöriyel =  6\n"
     ]
    }
   ],
   "source": [
    "# girilen sayının faktöriyelini bulma(for ve while ile)\n",
    "number = int(input(\"Bir sayı giriniz: \"))\n",
    "\n",
    "while number < 0:\n",
    "    print(\"Girilen sayı negatif olamaz.\")\n",
    "    number = int(input(\"Bir sayı giriniz: \"))\n",
    "\n",
    "if number == 0:\n",
    "    print(\"Faktöriyel = 1\")\n",
    "else:\n",
    "    faktoriyel = 1\n",
    "    i = 1\n",
    "    while i <= number:\n",
    "        faktoriyel *= i\n",
    "        i += 1\n",
    "    print(\"Faktöriyel = \", faktoriyel)\n",
    "        \n",
    "    "
   ]
  },
  {
   "cell_type": "code",
   "execution_count": 46,
   "id": "34c058a3-5da8-4a68-b337-5078695ed764",
   "metadata": {},
   "outputs": [
    {
     "name": "stdout",
     "output_type": "stream",
     "text": [
      "75 değerinin indisi: 2\n"
     ]
    }
   ],
   "source": [
    "# notlar=[45,85,75,50] içinde 75 değerinin indisini yazdıran döngü\n",
    "notlar = [45, 85, 75, 50]\n",
    "aranan_not= 75\n",
    "indeks = 0\n",
    "\n",
    "while indeks < len(notlar):\n",
    "    if notlar[indeks] == aranan_not:\n",
    "        print(f\"{aranan_not} değerinin indisi: {indeks}\")\n",
    "        break\n",
    "    indeks += 1\n",
    "else:\n",
    "    print(f\"{aranan_not} değeri listede bulunamadı.\")\n"
   ]
  },
  {
   "cell_type": "code",
   "execution_count": 47,
   "id": "7979c714-8bc0-4ca3-9197-71aafd424286",
   "metadata": {},
   "outputs": [
    {
     "name": "stdin",
     "output_type": "stream",
     "text": [
      "Pozitif bir sayı giriniz:  -6\n"
     ]
    },
    {
     "name": "stdout",
     "output_type": "stream",
     "text": [
      "Girilen sayı pozitif olmalı, tekrar deneyiniz.\n"
     ]
    },
    {
     "name": "stdin",
     "output_type": "stream",
     "text": [
      "Pozitif bir sayı giriniz:  -5\n"
     ]
    },
    {
     "name": "stdout",
     "output_type": "stream",
     "text": [
      "Girilen sayı pozitif olmalı, tekrar deneyiniz.\n"
     ]
    },
    {
     "name": "stdin",
     "output_type": "stream",
     "text": [
      "Pozitif bir sayı giriniz:  -4\n"
     ]
    },
    {
     "name": "stdout",
     "output_type": "stream",
     "text": [
      "Girilen sayı pozitif olmalı, tekrar deneyiniz.\n"
     ]
    },
    {
     "name": "stdin",
     "output_type": "stream",
     "text": [
      "Pozitif bir sayı giriniz:  5\n"
     ]
    },
    {
     "name": "stdout",
     "output_type": "stream",
     "text": [
      "5\n"
     ]
    }
   ],
   "source": [
    "# Kullancıdan pozitif bir sayı bekleyen, pozitifi de gördüğü an bastıran,\n",
    "#negatif sayı girildikçe bir daha soran yapı kuralım.\n",
    "number = int(input(\"Pozitif bir sayı giriniz: \"))\n",
    "\n",
    "while number < 0:\n",
    "    print(\"Girilen sayı pozitif olmalı, tekrar deneyiniz.\")\n",
    "    number = int(input(\"Pozitif bir sayı giriniz: \"))\n",
    "\n",
    "if number > 0:\n",
    "    print(number)\n",
    "    "
   ]
  },
  {
   "cell_type": "code",
   "execution_count": null,
   "id": "64d987e0-610a-4a65-9ef8-af1cdf8603e3",
   "metadata": {},
   "outputs": [],
   "source": []
  }
 ],
 "metadata": {
  "kernelspec": {
   "display_name": "Python (PatikaEnv)",
   "language": "python",
   "name": "patikaenv"
  },
  "language_info": {
   "codemirror_mode": {
    "name": "ipython",
    "version": 3
   },
   "file_extension": ".py",
   "mimetype": "text/x-python",
   "name": "python",
   "nbconvert_exporter": "python",
   "pygments_lexer": "ipython3",
   "version": "3.13.2"
  }
 },
 "nbformat": 4,
 "nbformat_minor": 5
}
